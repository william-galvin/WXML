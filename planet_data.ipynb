{
 "cells": [
  {
   "cell_type": "code",
   "execution_count": 2,
   "metadata": {},
   "outputs": [
    {
     "name": "stdout",
     "output_type": "stream",
     "text": [
      "04h 58m 26.34s\n",
      "+25deg 11' 05.6\"\n",
      "1.07423 au\n"
     ]
    }
   ],
   "source": [
    "from skyfield.api import load\n",
    "\n",
    "# Create a timescale and ask the current time.\n",
    "ts = load.timescale()\n",
    "t = ts.now()\n",
    "\n",
    "# Load the JPL ephemeris DE421 (covers 1900-2050).\n",
    "planets = load('de421.bsp')\n",
    "earth, mars = planets['earth'], planets['mars']\n",
    "\n",
    "# What's the position of Mars, viewed from Earth?\n",
    "astrometric = earth.at(t).observe(mars)\n",
    "ra, dec, distance = astrometric.radec()\n",
    "\n",
    "print(ra)\n",
    "print(dec)\n",
    "print(distance)"
   ]
  },
  {
   "cell_type": "code",
   "execution_count": 5,
   "metadata": {},
   "outputs": [
    {
     "name": "stdout",
     "output_type": "stream",
     "text": [
      "SPICE kernel file 'de421.bsp' has 15 segments\n",
      "  JD 2414864.50 - JD 2471184.50  (1899-07-28 through 2053-10-08)\n",
      "      0 -> 1    SOLAR SYSTEM BARYCENTER -> MERCURY BARYCENTER\n",
      "      0 -> 2    SOLAR SYSTEM BARYCENTER -> VENUS BARYCENTER\n",
      "      0 -> 3    SOLAR SYSTEM BARYCENTER -> EARTH BARYCENTER\n",
      "      0 -> 4    SOLAR SYSTEM BARYCENTER -> MARS BARYCENTER\n",
      "      0 -> 5    SOLAR SYSTEM BARYCENTER -> JUPITER BARYCENTER\n",
      "      0 -> 6    SOLAR SYSTEM BARYCENTER -> SATURN BARYCENTER\n",
      "      0 -> 7    SOLAR SYSTEM BARYCENTER -> URANUS BARYCENTER\n",
      "      0 -> 8    SOLAR SYSTEM BARYCENTER -> NEPTUNE BARYCENTER\n",
      "      0 -> 9    SOLAR SYSTEM BARYCENTER -> PLUTO BARYCENTER\n",
      "      0 -> 10   SOLAR SYSTEM BARYCENTER -> SUN\n",
      "      3 -> 301  EARTH BARYCENTER -> MOON\n",
      "      3 -> 399  EARTH BARYCENTER -> EARTH\n",
      "      1 -> 199  MERCURY BARYCENTER -> MERCURY\n",
      "      2 -> 299  VENUS BARYCENTER -> VENUS\n",
      "      4 -> 499  MARS BARYCENTER -> MARS\n"
     ]
    }
   ],
   "source": [
    "print(planets)"
   ]
  },
  {
   "cell_type": "code",
   "execution_count": 10,
   "metadata": {},
   "outputs": [
    {
     "data": {
      "text/plain": [
       "False"
      ]
     },
     "execution_count": 10,
     "metadata": {},
     "output_type": "execute_result"
    }
   ],
   "source": [
    "mercury = planets['MERCURY BARYCENTER']\n",
    "venus = planets['VENUS BARYCENTER']\n",
    "mars = planets['MARS BARYCENTER']\n",
    "jupiter = planets['JUPITER BARYCENTER']\n",
    "saturn = planets['SATURN BARYCENTER']\n",
    "uranus = planets['URANUS BARYCENTER']\n",
    "neptune = planets['NEPTUNE BARYCENTER']\n",
    "pluto = planets['PLUTO BARYCENTER']\n"
   ]
  },
  {
   "cell_type": "code",
   "execution_count": 20,
   "metadata": {},
   "outputs": [
    {
     "name": "stderr",
     "output_type": "stream",
     "text": [
      "100%|██████████| 8/8 [00:08<00:00,  1.03s/it]\n"
     ]
    }
   ],
   "source": [
    "from skyfield.api import N, W, wgs84\n",
    "from tqdm import tqdm\n",
    "\n",
    "import subprocess\n",
    "\n",
    "directory = \"C:\\\\Users\\\\willi\\\\OneDrive\\\\Documents\\\\Processing\\\\WXML\\\\data\\\\\"\n",
    "\n",
    "for planet in tqdm(['mercury', 'venus', 'mars', 'jupiter', 'saturn', 'uranus', 'neptune', 'pluto']):\n",
    "    with open(f\"{directory}{planet}_data.csv\", \"w\") as out:\n",
    "        out.write(\"altitude,azimuth,eclat,eclon,ecd,\\n\")\n",
    "        seattle = earth + wgs84.latlon(47.6062 * N, 122.3321 * W)\n",
    "        for year in range(2023, 2024):\n",
    "            for day in range(0, 365):\n",
    "                t = ts.utc(year=year, day=day) \n",
    "                astrometric = seattle.at(t).observe(planets[f'{planet} BARYCENTER'])\n",
    "                alt, az, d = astrometric.apparent().altaz()\n",
    "                eclat, eclon, ecd = astrometric.ecliptic_latlon()\n",
    "                out.write(f\"{alt.radians},{az.radians},{eclat.radians},{eclon.radians},{str(ecd)[0:-3]},\\n\")\n",
    "        "
   ]
  }
 ],
 "metadata": {
  "kernelspec": {
 },
 "nbformat": 4,
 "nbformat_minor": 2
}
